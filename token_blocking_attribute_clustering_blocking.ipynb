{
 "cells": [
  {
   "cell_type": "code",
   "execution_count": 44,
   "id": "intelligent-progress",
   "metadata": {},
   "outputs": [],
   "source": [
    "import os\n",
    "import pandas as pd\n",
    "import random"
   ]
  },
  {
   "cell_type": "code",
   "execution_count": 147,
   "id": "removed-address",
   "metadata": {},
   "outputs": [],
   "source": [
    "movies_dataset_path = 'movies_metadata.csv'\n",
    "cols = ['genres', 'imdb_id', 'title', 'production_companies', 'production_countries']\n",
    "\n",
    "# Read movies_metadata.csv & chosen columns & drop NA\n",
    "movies_df = pd.read_csv(movies_dataset_path, usecols=cols).dropna()\n",
    "\n",
    "# Drop rows whose 'genres' == [] or 'production_companies' == [] or 'production_countries' == []\n",
    "movies_df = movies_df[(movies_df['genres'] != '[]')  & \\\n",
    "                        (movies_df['production_companies'] != '[]') & \\\n",
    "                        (movies_df['production_countries'] != '[]')]"
   ]
  },
  {
   "cell_type": "code",
   "execution_count": 148,
   "id": "cosmetic-authentication",
   "metadata": {},
   "outputs": [],
   "source": [
    "# Choose 200 random rows\n",
    "random_movies_df = movies_df.sample(n=200).reset_index(drop=True)\n",
    "\n",
    "# Make 2 seperate KBs from random_movies_df\n",
    "kb1 = random_movies_df.sample(n=120)\n",
    "kb2 = random_movies_df.sample(n=120)"
   ]
  },
  {
   "cell_type": "code",
   "execution_count": 149,
   "id": "collective-aerospace",
   "metadata": {},
   "outputs": [
    {
     "data": {
      "text/html": [
       "<div>\n",
       "<style scoped>\n",
       "    .dataframe tbody tr th:only-of-type {\n",
       "        vertical-align: middle;\n",
       "    }\n",
       "\n",
       "    .dataframe tbody tr th {\n",
       "        vertical-align: top;\n",
       "    }\n",
       "\n",
       "    .dataframe thead th {\n",
       "        text-align: right;\n",
       "    }\n",
       "</style>\n",
       "<table border=\"1\" class=\"dataframe\">\n",
       "  <thead>\n",
       "    <tr style=\"text-align: right;\">\n",
       "      <th></th>\n",
       "      <th>genres</th>\n",
       "      <th>imdb_id</th>\n",
       "      <th>production_companies</th>\n",
       "      <th>production_countries</th>\n",
       "      <th>title</th>\n",
       "    </tr>\n",
       "  </thead>\n",
       "  <tbody>\n",
       "    <tr>\n",
       "      <th>0</th>\n",
       "      <td>[{'id': 18, 'name': 'Drama'}]</td>\n",
       "      <td>tt0122591</td>\n",
       "      <td>[{'name': 'Lenfilm', 'id': 10845}, {'name': 'V...</td>\n",
       "      <td>[{'iso_3166_1': 'RU', 'name': 'Russia'}]</td>\n",
       "      <td>The Lonely Voice of Man</td>\n",
       "    </tr>\n",
       "    <tr>\n",
       "      <th>1</th>\n",
       "      <td>[{'id': 18, 'name': 'Drama'}, {'id': 14, 'name...</td>\n",
       "      <td>tt3686272</td>\n",
       "      <td>[{'name': 'Bambú', 'id': 27628}]</td>\n",
       "      <td>[{'iso_3166_1': 'ES', 'name': 'Spain'}]</td>\n",
       "      <td>The Club of the Misunderstood</td>\n",
       "    </tr>\n",
       "    <tr>\n",
       "      <th>2</th>\n",
       "      <td>[{'id': 27, 'name': 'Horror'}]</td>\n",
       "      <td>tt1770672</td>\n",
       "      <td>[{'name': 'Imagenation Abu Dhabi FZ', 'id': 67...</td>\n",
       "      <td>[{'iso_3166_1': 'AE', 'name': 'United Arab Emi...</td>\n",
       "      <td>Djinn</td>\n",
       "    </tr>\n",
       "    <tr>\n",
       "      <th>3</th>\n",
       "      <td>[{'id': 18, 'name': 'Drama'}, {'id': 14, 'name...</td>\n",
       "      <td>tt0091244</td>\n",
       "      <td>[{'name': 'AFC', 'id': 25678}]</td>\n",
       "      <td>[{'iso_3166_1': 'IT', 'name': 'Italy'}, {'iso_...</td>\n",
       "      <td>I Love You</td>\n",
       "    </tr>\n",
       "    <tr>\n",
       "      <th>4</th>\n",
       "      <td>[{'id': 10770, 'name': 'TV Movie'}, {'id': 107...</td>\n",
       "      <td>tt0081062</td>\n",
       "      <td>[{'name': 'Norman Rosemont Productions', 'id':...</td>\n",
       "      <td>[{'iso_3166_1': 'GB', 'name': 'United Kingdom'}]</td>\n",
       "      <td>Little Lord Fauntleroy</td>\n",
       "    </tr>\n",
       "  </tbody>\n",
       "</table>\n",
       "</div>"
      ],
      "text/plain": [
       "                                              genres    imdb_id  \\\n",
       "0                      [{'id': 18, 'name': 'Drama'}]  tt0122591   \n",
       "1  [{'id': 18, 'name': 'Drama'}, {'id': 14, 'name...  tt3686272   \n",
       "2                     [{'id': 27, 'name': 'Horror'}]  tt1770672   \n",
       "3  [{'id': 18, 'name': 'Drama'}, {'id': 14, 'name...  tt0091244   \n",
       "4  [{'id': 10770, 'name': 'TV Movie'}, {'id': 107...  tt0081062   \n",
       "\n",
       "                                production_companies  \\\n",
       "0  [{'name': 'Lenfilm', 'id': 10845}, {'name': 'V...   \n",
       "1                   [{'name': 'Bambú', 'id': 27628}]   \n",
       "2  [{'name': 'Imagenation Abu Dhabi FZ', 'id': 67...   \n",
       "3                     [{'name': 'AFC', 'id': 25678}]   \n",
       "4  [{'name': 'Norman Rosemont Productions', 'id':...   \n",
       "\n",
       "                                production_countries  \\\n",
       "0           [{'iso_3166_1': 'RU', 'name': 'Russia'}]   \n",
       "1            [{'iso_3166_1': 'ES', 'name': 'Spain'}]   \n",
       "2  [{'iso_3166_1': 'AE', 'name': 'United Arab Emi...   \n",
       "3  [{'iso_3166_1': 'IT', 'name': 'Italy'}, {'iso_...   \n",
       "4   [{'iso_3166_1': 'GB', 'name': 'United Kingdom'}]   \n",
       "\n",
       "                           title  \n",
       "0        The Lonely Voice of Man  \n",
       "1  The Club of the Misunderstood  \n",
       "2                          Djinn  \n",
       "3                     I Love You  \n",
       "4         Little Lord Fauntleroy  "
      ]
     },
     "execution_count": 149,
     "metadata": {},
     "output_type": "execute_result"
    }
   ],
   "source": [
    "random_movies_df.head()"
   ]
  },
  {
   "cell_type": "code",
   "execution_count": 150,
   "id": "three-envelope",
   "metadata": {},
   "outputs": [
    {
     "data": {
      "text/html": [
       "<div>\n",
       "<style scoped>\n",
       "    .dataframe tbody tr th:only-of-type {\n",
       "        vertical-align: middle;\n",
       "    }\n",
       "\n",
       "    .dataframe tbody tr th {\n",
       "        vertical-align: top;\n",
       "    }\n",
       "\n",
       "    .dataframe thead th {\n",
       "        text-align: right;\n",
       "    }\n",
       "</style>\n",
       "<table border=\"1\" class=\"dataframe\">\n",
       "  <thead>\n",
       "    <tr style=\"text-align: right;\">\n",
       "      <th></th>\n",
       "      <th>genres</th>\n",
       "      <th>imdb_id</th>\n",
       "      <th>production_companies</th>\n",
       "      <th>production_countries</th>\n",
       "      <th>title</th>\n",
       "    </tr>\n",
       "  </thead>\n",
       "  <tbody>\n",
       "    <tr>\n",
       "      <th>125</th>\n",
       "      <td>[{'id': 12, 'name': 'Adventure'}, {'id': 878, ...</td>\n",
       "      <td>tt5702566</td>\n",
       "      <td>[{'name': 'Vangard Productions', 'id': 92086},...</td>\n",
       "      <td>[{'iso_3166_1': 'US', 'name': 'United States o...</td>\n",
       "      <td>Stasis</td>\n",
       "    </tr>\n",
       "    <tr>\n",
       "      <th>130</th>\n",
       "      <td>[{'id': 27, 'name': 'Horror'}, {'id': 878, 'na...</td>\n",
       "      <td>tt0044121</td>\n",
       "      <td>[{'name': 'RKO Radio Pictures', 'id': 6}, {'na...</td>\n",
       "      <td>[{'iso_3166_1': 'US', 'name': 'United States o...</td>\n",
       "      <td>The Thing from Another World</td>\n",
       "    </tr>\n",
       "    <tr>\n",
       "      <th>91</th>\n",
       "      <td>[{'id': 80, 'name': 'Crime'}, {'id': 35, 'name...</td>\n",
       "      <td>tt0074608</td>\n",
       "      <td>[{'name': 'Columbia Pictures Corporation', 'id...</td>\n",
       "      <td>[{'iso_3166_1': 'US', 'name': 'United States o...</td>\n",
       "      <td>Harry and Walter Go To New York</td>\n",
       "    </tr>\n",
       "    <tr>\n",
       "      <th>168</th>\n",
       "      <td>[{'id': 18, 'name': 'Drama'}, {'id': 53, 'name...</td>\n",
       "      <td>tt0974613</td>\n",
       "      <td>[{'name': 'Rainmark Films', 'id': 3346}]</td>\n",
       "      <td>[{'iso_3166_1': 'GB', 'name': 'United Kingdom'...</td>\n",
       "      <td>The Other Man</td>\n",
       "    </tr>\n",
       "    <tr>\n",
       "      <th>149</th>\n",
       "      <td>[{'id': 28, 'name': 'Action'}, {'id': 18, 'nam...</td>\n",
       "      <td>tt0763840</td>\n",
       "      <td>[{'name': 'North by Northwest Entertainment', ...</td>\n",
       "      <td>[{'iso_3166_1': 'MA', 'name': 'Morocco'}, {'is...</td>\n",
       "      <td>Home of the Brave</td>\n",
       "    </tr>\n",
       "  </tbody>\n",
       "</table>\n",
       "</div>"
      ],
      "text/plain": [
       "                                                genres    imdb_id  \\\n",
       "125  [{'id': 12, 'name': 'Adventure'}, {'id': 878, ...  tt5702566   \n",
       "130  [{'id': 27, 'name': 'Horror'}, {'id': 878, 'na...  tt0044121   \n",
       "91   [{'id': 80, 'name': 'Crime'}, {'id': 35, 'name...  tt0074608   \n",
       "168  [{'id': 18, 'name': 'Drama'}, {'id': 53, 'name...  tt0974613   \n",
       "149  [{'id': 28, 'name': 'Action'}, {'id': 18, 'nam...  tt0763840   \n",
       "\n",
       "                                  production_companies  \\\n",
       "125  [{'name': 'Vangard Productions', 'id': 92086},...   \n",
       "130  [{'name': 'RKO Radio Pictures', 'id': 6}, {'na...   \n",
       "91   [{'name': 'Columbia Pictures Corporation', 'id...   \n",
       "168           [{'name': 'Rainmark Films', 'id': 3346}]   \n",
       "149  [{'name': 'North by Northwest Entertainment', ...   \n",
       "\n",
       "                                  production_countries  \\\n",
       "125  [{'iso_3166_1': 'US', 'name': 'United States o...   \n",
       "130  [{'iso_3166_1': 'US', 'name': 'United States o...   \n",
       "91   [{'iso_3166_1': 'US', 'name': 'United States o...   \n",
       "168  [{'iso_3166_1': 'GB', 'name': 'United Kingdom'...   \n",
       "149  [{'iso_3166_1': 'MA', 'name': 'Morocco'}, {'is...   \n",
       "\n",
       "                               title  \n",
       "125                           Stasis  \n",
       "130     The Thing from Another World  \n",
       "91   Harry and Walter Go To New York  \n",
       "168                    The Other Man  \n",
       "149                Home of the Brave  "
      ]
     },
     "execution_count": 150,
     "metadata": {},
     "output_type": "execute_result"
    }
   ],
   "source": [
    "kb1.head()"
   ]
  },
  {
   "cell_type": "code",
   "execution_count": 151,
   "id": "structured-bookmark",
   "metadata": {},
   "outputs": [
    {
     "data": {
      "text/html": [
       "<div>\n",
       "<style scoped>\n",
       "    .dataframe tbody tr th:only-of-type {\n",
       "        vertical-align: middle;\n",
       "    }\n",
       "\n",
       "    .dataframe tbody tr th {\n",
       "        vertical-align: top;\n",
       "    }\n",
       "\n",
       "    .dataframe thead th {\n",
       "        text-align: right;\n",
       "    }\n",
       "</style>\n",
       "<table border=\"1\" class=\"dataframe\">\n",
       "  <thead>\n",
       "    <tr style=\"text-align: right;\">\n",
       "      <th></th>\n",
       "      <th>genres</th>\n",
       "      <th>imdb_id</th>\n",
       "      <th>production_companies</th>\n",
       "      <th>production_countries</th>\n",
       "      <th>title</th>\n",
       "    </tr>\n",
       "  </thead>\n",
       "  <tbody>\n",
       "    <tr>\n",
       "      <th>49</th>\n",
       "      <td>[{'id': 878, 'name': 'Science Fiction'}, {'id'...</td>\n",
       "      <td>tt0064470</td>\n",
       "      <td>[{'name': 'Ambassador Productions', 'id': 7696...</td>\n",
       "      <td>[{'iso_3166_1': 'JP', 'name': 'Japan'}, {'iso_...</td>\n",
       "      <td>Latitude Zero</td>\n",
       "    </tr>\n",
       "    <tr>\n",
       "      <th>60</th>\n",
       "      <td>[{'id': 28, 'name': 'Action'}, {'id': 18, 'nam...</td>\n",
       "      <td>tt0075627</td>\n",
       "      <td>[{'name': 'Les Productions Jacques Roitfeld', ...</td>\n",
       "      <td>[{'iso_3166_1': 'GB', 'name': 'United Kingdom'}]</td>\n",
       "      <td>Aces High</td>\n",
       "    </tr>\n",
       "    <tr>\n",
       "      <th>129</th>\n",
       "      <td>[{'id': 14, 'name': 'Fantasy'}, {'id': 878, 'n...</td>\n",
       "      <td>tt1531911</td>\n",
       "      <td>[{'name': 'The Asylum', 'id': 1311}, {'name': ...</td>\n",
       "      <td>[{'iso_3166_1': 'US', 'name': 'United States o...</td>\n",
       "      <td>Princess of Mars</td>\n",
       "    </tr>\n",
       "    <tr>\n",
       "      <th>71</th>\n",
       "      <td>[{'id': 35, 'name': 'Comedy'}, {'id': 18, 'nam...</td>\n",
       "      <td>tt0252619</td>\n",
       "      <td>[{'name': 'Arzu Film', 'id': 4639}]</td>\n",
       "      <td>[{'iso_3166_1': 'TR', 'name': 'Turkey'}]</td>\n",
       "      <td>Köyden İndim Şehire</td>\n",
       "    </tr>\n",
       "    <tr>\n",
       "      <th>136</th>\n",
       "      <td>[{'id': 35, 'name': 'Comedy'}, {'id': 80, 'nam...</td>\n",
       "      <td>tt1552669</td>\n",
       "      <td>[{'name': 'VIP Medienfonds 2 &amp; 3 Filmgeschäfts...</td>\n",
       "      <td>[{'iso_3166_1': 'DE', 'name': 'Germany'}]</td>\n",
       "      <td>Dinosaurier - Gegen uns seht ihr alt aus!</td>\n",
       "    </tr>\n",
       "  </tbody>\n",
       "</table>\n",
       "</div>"
      ],
      "text/plain": [
       "                                                genres    imdb_id  \\\n",
       "49   [{'id': 878, 'name': 'Science Fiction'}, {'id'...  tt0064470   \n",
       "60   [{'id': 28, 'name': 'Action'}, {'id': 18, 'nam...  tt0075627   \n",
       "129  [{'id': 14, 'name': 'Fantasy'}, {'id': 878, 'n...  tt1531911   \n",
       "71   [{'id': 35, 'name': 'Comedy'}, {'id': 18, 'nam...  tt0252619   \n",
       "136  [{'id': 35, 'name': 'Comedy'}, {'id': 80, 'nam...  tt1552669   \n",
       "\n",
       "                                  production_companies  \\\n",
       "49   [{'name': 'Ambassador Productions', 'id': 7696...   \n",
       "60   [{'name': 'Les Productions Jacques Roitfeld', ...   \n",
       "129  [{'name': 'The Asylum', 'id': 1311}, {'name': ...   \n",
       "71                 [{'name': 'Arzu Film', 'id': 4639}]   \n",
       "136  [{'name': 'VIP Medienfonds 2 & 3 Filmgeschäfts...   \n",
       "\n",
       "                                  production_countries  \\\n",
       "49   [{'iso_3166_1': 'JP', 'name': 'Japan'}, {'iso_...   \n",
       "60    [{'iso_3166_1': 'GB', 'name': 'United Kingdom'}]   \n",
       "129  [{'iso_3166_1': 'US', 'name': 'United States o...   \n",
       "71            [{'iso_3166_1': 'TR', 'name': 'Turkey'}]   \n",
       "136          [{'iso_3166_1': 'DE', 'name': 'Germany'}]   \n",
       "\n",
       "                                         title  \n",
       "49                               Latitude Zero  \n",
       "60                                   Aces High  \n",
       "129                           Princess of Mars  \n",
       "71                         Köyden İndim Şehire  \n",
       "136  Dinosaurier - Gegen uns seht ihr alt aus!  "
      ]
     },
     "execution_count": 151,
     "metadata": {},
     "output_type": "execute_result"
    }
   ],
   "source": [
    "kb2.head()"
   ]
  },
  {
   "cell_type": "code",
   "execution_count": 152,
   "id": "union-investing",
   "metadata": {},
   "outputs": [],
   "source": [
    "# Preprocessing: Make a string of list of dictionaries into list of names of features.\n",
    "# E.g. 'genres' column output only contains 'Drama, Action, Documentary'\n",
    "def dicts_list_to_str(df: pd.DataFrame, columns_to_modify):\n",
    "    df_clone = df.copy()\n",
    "    for index, row in df_clone.iterrows():\n",
    "        for col in columns_to_modify:\n",
    "            list_of_dicts = eval(row[col])\n",
    "            if col == 'production_countries':\n",
    "                col_elements = [col_dict['iso_3166_1'] for col_dict in list_of_dicts]\n",
    "            else:\n",
    "                col_elements = [col_dict['name'] for col_dict in list_of_dicts]\n",
    "            col_str = ' '.join(col_elements)\n",
    "            # Replace back to the column name\n",
    "            row[col] = col_str\n",
    "    \n",
    "    return df_clone"
   ]
  },
  {
   "cell_type": "code",
   "execution_count": 153,
   "id": "stupid-alias",
   "metadata": {},
   "outputs": [],
   "source": [
    "columns_to_modify = ['genres', 'production_companies', 'production_countries']\n",
    "kb1_modified = dicts_list_to_str(kb1, columns_to_modify)"
   ]
  },
  {
   "cell_type": "code",
   "execution_count": 154,
   "id": "documented-charlotte",
   "metadata": {},
   "outputs": [
    {
     "data": {
      "text/html": [
       "<div>\n",
       "<style scoped>\n",
       "    .dataframe tbody tr th:only-of-type {\n",
       "        vertical-align: middle;\n",
       "    }\n",
       "\n",
       "    .dataframe tbody tr th {\n",
       "        vertical-align: top;\n",
       "    }\n",
       "\n",
       "    .dataframe thead th {\n",
       "        text-align: right;\n",
       "    }\n",
       "</style>\n",
       "<table border=\"1\" class=\"dataframe\">\n",
       "  <thead>\n",
       "    <tr style=\"text-align: right;\">\n",
       "      <th></th>\n",
       "      <th>genres</th>\n",
       "      <th>imdb_id</th>\n",
       "      <th>production_companies</th>\n",
       "      <th>production_countries</th>\n",
       "      <th>title</th>\n",
       "    </tr>\n",
       "  </thead>\n",
       "  <tbody>\n",
       "    <tr>\n",
       "      <th>125</th>\n",
       "      <td>Adventure Science Fiction</td>\n",
       "      <td>tt5702566</td>\n",
       "      <td>Vangard Productions PraxiScope Productions</td>\n",
       "      <td>US</td>\n",
       "      <td>Stasis</td>\n",
       "    </tr>\n",
       "    <tr>\n",
       "      <th>130</th>\n",
       "      <td>Horror Science Fiction</td>\n",
       "      <td>tt0044121</td>\n",
       "      <td>RKO Radio Pictures Winchester Pictures Corpora...</td>\n",
       "      <td>US</td>\n",
       "      <td>The Thing from Another World</td>\n",
       "    </tr>\n",
       "    <tr>\n",
       "      <th>91</th>\n",
       "      <td>Crime Comedy</td>\n",
       "      <td>tt0074608</td>\n",
       "      <td>Columbia Pictures Corporation</td>\n",
       "      <td>US</td>\n",
       "      <td>Harry and Walter Go To New York</td>\n",
       "    </tr>\n",
       "    <tr>\n",
       "      <th>168</th>\n",
       "      <td>Drama Thriller Mystery Romance</td>\n",
       "      <td>tt0974613</td>\n",
       "      <td>Rainmark Films</td>\n",
       "      <td>GB IT</td>\n",
       "      <td>The Other Man</td>\n",
       "    </tr>\n",
       "    <tr>\n",
       "      <th>149</th>\n",
       "      <td>Action Drama</td>\n",
       "      <td>tt0763840</td>\n",
       "      <td>North by Northwest Entertainment Metro-Goldwyn...</td>\n",
       "      <td>MA US</td>\n",
       "      <td>Home of the Brave</td>\n",
       "    </tr>\n",
       "  </tbody>\n",
       "</table>\n",
       "</div>"
      ],
      "text/plain": [
       "                             genres    imdb_id  \\\n",
       "125       Adventure Science Fiction  tt5702566   \n",
       "130          Horror Science Fiction  tt0044121   \n",
       "91                     Crime Comedy  tt0074608   \n",
       "168  Drama Thriller Mystery Romance  tt0974613   \n",
       "149                    Action Drama  tt0763840   \n",
       "\n",
       "                                  production_companies production_countries  \\\n",
       "125         Vangard Productions PraxiScope Productions                   US   \n",
       "130  RKO Radio Pictures Winchester Pictures Corpora...                   US   \n",
       "91                       Columbia Pictures Corporation                   US   \n",
       "168                                     Rainmark Films                GB IT   \n",
       "149  North by Northwest Entertainment Metro-Goldwyn...                MA US   \n",
       "\n",
       "                               title  \n",
       "125                           Stasis  \n",
       "130     The Thing from Another World  \n",
       "91   Harry and Walter Go To New York  \n",
       "168                    The Other Man  \n",
       "149                Home of the Brave  "
      ]
     },
     "execution_count": 154,
     "metadata": {},
     "output_type": "execute_result"
    }
   ],
   "source": [
    "kb1_modified.head()"
   ]
  },
  {
   "cell_type": "code",
   "execution_count": 155,
   "id": "heated-apollo",
   "metadata": {},
   "outputs": [],
   "source": [
    "kb2_modified = dicts_list_to_str(kb2, columns_to_modify)"
   ]
  },
  {
   "cell_type": "code",
   "execution_count": 156,
   "id": "committed-adelaide",
   "metadata": {},
   "outputs": [
    {
     "data": {
      "text/html": [
       "<div>\n",
       "<style scoped>\n",
       "    .dataframe tbody tr th:only-of-type {\n",
       "        vertical-align: middle;\n",
       "    }\n",
       "\n",
       "    .dataframe tbody tr th {\n",
       "        vertical-align: top;\n",
       "    }\n",
       "\n",
       "    .dataframe thead th {\n",
       "        text-align: right;\n",
       "    }\n",
       "</style>\n",
       "<table border=\"1\" class=\"dataframe\">\n",
       "  <thead>\n",
       "    <tr style=\"text-align: right;\">\n",
       "      <th></th>\n",
       "      <th>genres</th>\n",
       "      <th>imdb_id</th>\n",
       "      <th>production_companies</th>\n",
       "      <th>production_countries</th>\n",
       "      <th>title</th>\n",
       "    </tr>\n",
       "  </thead>\n",
       "  <tbody>\n",
       "    <tr>\n",
       "      <th>49</th>\n",
       "      <td>Science Fiction Adventure Action</td>\n",
       "      <td>tt0064470</td>\n",
       "      <td>Ambassador Productions Don Sharpe Enterprises ...</td>\n",
       "      <td>JP US</td>\n",
       "      <td>Latitude Zero</td>\n",
       "    </tr>\n",
       "    <tr>\n",
       "      <th>60</th>\n",
       "      <td>Action Drama War</td>\n",
       "      <td>tt0075627</td>\n",
       "      <td>Les Productions Jacques Roitfeld S. Benjamin F...</td>\n",
       "      <td>GB</td>\n",
       "      <td>Aces High</td>\n",
       "    </tr>\n",
       "    <tr>\n",
       "      <th>129</th>\n",
       "      <td>Fantasy Science Fiction War</td>\n",
       "      <td>tt1531911</td>\n",
       "      <td>The Asylum The Global Asylum Asylum, The</td>\n",
       "      <td>US</td>\n",
       "      <td>Princess of Mars</td>\n",
       "    </tr>\n",
       "    <tr>\n",
       "      <th>71</th>\n",
       "      <td>Comedy Drama</td>\n",
       "      <td>tt0252619</td>\n",
       "      <td>Arzu Film</td>\n",
       "      <td>TR</td>\n",
       "      <td>Köyden İndim Şehire</td>\n",
       "    </tr>\n",
       "    <tr>\n",
       "      <th>136</th>\n",
       "      <td>Comedy Crime Romance</td>\n",
       "      <td>tt1552669</td>\n",
       "      <td>VIP Medienfonds 2 &amp; 3 Filmgeschäftsführungs Gm...</td>\n",
       "      <td>DE</td>\n",
       "      <td>Dinosaurier - Gegen uns seht ihr alt aus!</td>\n",
       "    </tr>\n",
       "  </tbody>\n",
       "</table>\n",
       "</div>"
      ],
      "text/plain": [
       "                               genres    imdb_id  \\\n",
       "49   Science Fiction Adventure Action  tt0064470   \n",
       "60                   Action Drama War  tt0075627   \n",
       "129       Fantasy Science Fiction War  tt1531911   \n",
       "71                       Comedy Drama  tt0252619   \n",
       "136              Comedy Crime Romance  tt1552669   \n",
       "\n",
       "                                  production_companies production_countries  \\\n",
       "49   Ambassador Productions Don Sharpe Enterprises ...                JP US   \n",
       "60   Les Productions Jacques Roitfeld S. Benjamin F...                   GB   \n",
       "129           The Asylum The Global Asylum Asylum, The                   US   \n",
       "71                                           Arzu Film                   TR   \n",
       "136  VIP Medienfonds 2 & 3 Filmgeschäftsführungs Gm...                   DE   \n",
       "\n",
       "                                         title  \n",
       "49                               Latitude Zero  \n",
       "60                                   Aces High  \n",
       "129                           Princess of Mars  \n",
       "71                         Köyden İndim Şehire  \n",
       "136  Dinosaurier - Gegen uns seht ihr alt aus!  "
      ]
     },
     "execution_count": 156,
     "metadata": {},
     "output_type": "execute_result"
    }
   ],
   "source": [
    "kb2_modified.head()"
   ]
  },
  {
   "cell_type": "code",
   "execution_count": 157,
   "id": "sound-mexican",
   "metadata": {},
   "outputs": [],
   "source": [
    "def modified_kb2(df: pd.DataFrame, randomly_removed_cols):\n",
    "    df_clone = df.copy()\n",
    "    for index, row in df_clone.iterrows():\n",
    "        # For 'genres', 'production_countries', if there is only 1 genre, keep it. Otherwise, remove one of them\n",
    "        for col in randomly_removed_cols:\n",
    "            feature_list = row[col].split(' ')\n",
    "            if len(feature_list) > 1:\n",
    "                # Randomly remove 1 of them\n",
    "                random.shuffle(feature_list)\n",
    "                feature_list.pop()\n",
    "                # Merge back as a string\n",
    "                features_str = ' '.join(feature_list)\n",
    "                row[col] = features_str\n",
    "        \n",
    "        \n",
    "        # For 'title', make some changes so it looks like a typo\n",
    "        title_list = row['title'].split(' ')\n",
    "        # Make typo changes only with 'title' has more than 2 words\n",
    "        if len(title_list) > 2:\n",
    "            row['title'] = row['title'].replace('a', '4').replace('i', 'j')\n",
    "    return df_clone"
   ]
  },
  {
   "cell_type": "code",
   "execution_count": 158,
   "id": "based-broadway",
   "metadata": {
    "scrolled": true
   },
   "outputs": [],
   "source": [
    "randomly_remove_cols = ['genres', 'production_countries']\n",
    "\n",
    "kb2_processed = modified_kb2(kb2_modified, randomly_remove_cols)"
   ]
  },
  {
   "cell_type": "code",
   "execution_count": 159,
   "id": "seeing-hundred",
   "metadata": {},
   "outputs": [],
   "source": [
    "# Modify KBs' attributes (column name) so that they are different, and easier for later blocking methods\n",
    "def name_modification(Kb, appended_str:str):\n",
    "    Kb_clone = Kb.copy()\n",
    "    name_modification_dict = {}\n",
    "    for col in Kb_clone.columns:\n",
    "        name_modification_dict[col] = col + appended_str\n",
    "    Kb_clone.rename(name_modification_dict, axis=1, inplace=True)\n",
    "\n",
    "    return Kb_clone"
   ]
  },
  {
   "cell_type": "code",
   "execution_count": 163,
   "id": "likely-marsh",
   "metadata": {},
   "outputs": [],
   "source": [
    "kb1_processed = name_modification(kb1_modified, '_kb1')\n",
    "kb2_processed_2 = name_modification(kb2_processed, '_kb2')"
   ]
  },
  {
   "cell_type": "markdown",
   "id": "collectible-sampling",
   "metadata": {},
   "source": [
    "### Final KBs"
   ]
  },
  {
   "cell_type": "code",
   "execution_count": 164,
   "id": "detailed-prague",
   "metadata": {},
   "outputs": [
    {
     "data": {
      "text/html": [
       "<div>\n",
       "<style scoped>\n",
       "    .dataframe tbody tr th:only-of-type {\n",
       "        vertical-align: middle;\n",
       "    }\n",
       "\n",
       "    .dataframe tbody tr th {\n",
       "        vertical-align: top;\n",
       "    }\n",
       "\n",
       "    .dataframe thead th {\n",
       "        text-align: right;\n",
       "    }\n",
       "</style>\n",
       "<table border=\"1\" class=\"dataframe\">\n",
       "  <thead>\n",
       "    <tr style=\"text-align: right;\">\n",
       "      <th></th>\n",
       "      <th>genres_kb1</th>\n",
       "      <th>imdb_id_kb1</th>\n",
       "      <th>production_companies_kb1</th>\n",
       "      <th>production_countries_kb1</th>\n",
       "      <th>title_kb1</th>\n",
       "    </tr>\n",
       "  </thead>\n",
       "  <tbody>\n",
       "    <tr>\n",
       "      <th>125</th>\n",
       "      <td>Adventure Science Fiction</td>\n",
       "      <td>tt5702566</td>\n",
       "      <td>Vangard Productions PraxiScope Productions</td>\n",
       "      <td>US</td>\n",
       "      <td>Stasis</td>\n",
       "    </tr>\n",
       "    <tr>\n",
       "      <th>130</th>\n",
       "      <td>Horror Science Fiction</td>\n",
       "      <td>tt0044121</td>\n",
       "      <td>RKO Radio Pictures Winchester Pictures Corpora...</td>\n",
       "      <td>US</td>\n",
       "      <td>The Thing from Another World</td>\n",
       "    </tr>\n",
       "    <tr>\n",
       "      <th>91</th>\n",
       "      <td>Crime Comedy</td>\n",
       "      <td>tt0074608</td>\n",
       "      <td>Columbia Pictures Corporation</td>\n",
       "      <td>US</td>\n",
       "      <td>Harry and Walter Go To New York</td>\n",
       "    </tr>\n",
       "    <tr>\n",
       "      <th>168</th>\n",
       "      <td>Drama Thriller Mystery Romance</td>\n",
       "      <td>tt0974613</td>\n",
       "      <td>Rainmark Films</td>\n",
       "      <td>GB IT</td>\n",
       "      <td>The Other Man</td>\n",
       "    </tr>\n",
       "    <tr>\n",
       "      <th>149</th>\n",
       "      <td>Action Drama</td>\n",
       "      <td>tt0763840</td>\n",
       "      <td>North by Northwest Entertainment Metro-Goldwyn...</td>\n",
       "      <td>MA US</td>\n",
       "      <td>Home of the Brave</td>\n",
       "    </tr>\n",
       "  </tbody>\n",
       "</table>\n",
       "</div>"
      ],
      "text/plain": [
       "                         genres_kb1 imdb_id_kb1  \\\n",
       "125       Adventure Science Fiction   tt5702566   \n",
       "130          Horror Science Fiction   tt0044121   \n",
       "91                     Crime Comedy   tt0074608   \n",
       "168  Drama Thriller Mystery Romance   tt0974613   \n",
       "149                    Action Drama   tt0763840   \n",
       "\n",
       "                              production_companies_kb1  \\\n",
       "125         Vangard Productions PraxiScope Productions   \n",
       "130  RKO Radio Pictures Winchester Pictures Corpora...   \n",
       "91                       Columbia Pictures Corporation   \n",
       "168                                     Rainmark Films   \n",
       "149  North by Northwest Entertainment Metro-Goldwyn...   \n",
       "\n",
       "    production_countries_kb1                        title_kb1  \n",
       "125                       US                           Stasis  \n",
       "130                       US     The Thing from Another World  \n",
       "91                        US  Harry and Walter Go To New York  \n",
       "168                    GB IT                    The Other Man  \n",
       "149                    MA US                Home of the Brave  "
      ]
     },
     "execution_count": 164,
     "metadata": {},
     "output_type": "execute_result"
    }
   ],
   "source": [
    "# Final KBs\n",
    "kb1_processed.head()"
   ]
  },
  {
   "cell_type": "code",
   "execution_count": 165,
   "id": "affecting-structure",
   "metadata": {},
   "outputs": [
    {
     "data": {
      "text/html": [
       "<div>\n",
       "<style scoped>\n",
       "    .dataframe tbody tr th:only-of-type {\n",
       "        vertical-align: middle;\n",
       "    }\n",
       "\n",
       "    .dataframe tbody tr th {\n",
       "        vertical-align: top;\n",
       "    }\n",
       "\n",
       "    .dataframe thead th {\n",
       "        text-align: right;\n",
       "    }\n",
       "</style>\n",
       "<table border=\"1\" class=\"dataframe\">\n",
       "  <thead>\n",
       "    <tr style=\"text-align: right;\">\n",
       "      <th></th>\n",
       "      <th>genres_kb2</th>\n",
       "      <th>imdb_id_kb2</th>\n",
       "      <th>production_companies_kb2</th>\n",
       "      <th>production_countries_kb2</th>\n",
       "      <th>title_kb2</th>\n",
       "    </tr>\n",
       "  </thead>\n",
       "  <tbody>\n",
       "    <tr>\n",
       "      <th>49</th>\n",
       "      <td>Science Action Fiction</td>\n",
       "      <td>tt0064470</td>\n",
       "      <td>Ambassador Productions Don Sharpe Enterprises ...</td>\n",
       "      <td>US</td>\n",
       "      <td>Latitude Zero</td>\n",
       "    </tr>\n",
       "    <tr>\n",
       "      <th>60</th>\n",
       "      <td>War Action</td>\n",
       "      <td>tt0075627</td>\n",
       "      <td>Les Productions Jacques Roitfeld S. Benjamin F...</td>\n",
       "      <td>GB</td>\n",
       "      <td>Aces High</td>\n",
       "    </tr>\n",
       "    <tr>\n",
       "      <th>129</th>\n",
       "      <td>Fantasy Science Fiction</td>\n",
       "      <td>tt1531911</td>\n",
       "      <td>The Asylum The Global Asylum Asylum, The</td>\n",
       "      <td>US</td>\n",
       "      <td>Prjncess of M4rs</td>\n",
       "    </tr>\n",
       "    <tr>\n",
       "      <th>71</th>\n",
       "      <td>Comedy</td>\n",
       "      <td>tt0252619</td>\n",
       "      <td>Arzu Film</td>\n",
       "      <td>TR</td>\n",
       "      <td>Köyden İndjm Şehjre</td>\n",
       "    </tr>\n",
       "    <tr>\n",
       "      <th>136</th>\n",
       "      <td>Crime Romance</td>\n",
       "      <td>tt1552669</td>\n",
       "      <td>VIP Medienfonds 2 &amp; 3 Filmgeschäftsführungs Gm...</td>\n",
       "      <td>DE</td>\n",
       "      <td>Djnos4urjer - Gegen uns seht jhr 4lt 4us!</td>\n",
       "    </tr>\n",
       "  </tbody>\n",
       "</table>\n",
       "</div>"
      ],
      "text/plain": [
       "                  genres_kb2 imdb_id_kb2  \\\n",
       "49    Science Action Fiction   tt0064470   \n",
       "60                War Action   tt0075627   \n",
       "129  Fantasy Science Fiction   tt1531911   \n",
       "71                    Comedy   tt0252619   \n",
       "136            Crime Romance   tt1552669   \n",
       "\n",
       "                              production_companies_kb2  \\\n",
       "49   Ambassador Productions Don Sharpe Enterprises ...   \n",
       "60   Les Productions Jacques Roitfeld S. Benjamin F...   \n",
       "129           The Asylum The Global Asylum Asylum, The   \n",
       "71                                           Arzu Film   \n",
       "136  VIP Medienfonds 2 & 3 Filmgeschäftsführungs Gm...   \n",
       "\n",
       "    production_countries_kb2                                  title_kb2  \n",
       "49                        US                              Latitude Zero  \n",
       "60                        GB                                  Aces High  \n",
       "129                       US                           Prjncess of M4rs  \n",
       "71                        TR                        Köyden İndjm Şehjre  \n",
       "136                       DE  Djnos4urjer - Gegen uns seht jhr 4lt 4us!  "
      ]
     },
     "execution_count": 165,
     "metadata": {},
     "output_type": "execute_result"
    }
   ],
   "source": [
    "kb2_processed_2.head()"
   ]
  },
  {
   "cell_type": "markdown",
   "id": "coordinate-nigeria",
   "metadata": {},
   "source": [
    "### Token blocking"
   ]
  },
  {
   "cell_type": "code",
   "execution_count": 185,
   "id": "posted-pierce",
   "metadata": {},
   "outputs": [],
   "source": [
    "test_db1 = kb1_processed.copy()\n",
    "test_db2 = kb2_processed_2.copy()\n",
    "\n",
    "dict_db1 = {}\n",
    "dict_db2 = {}\n",
    "\n",
    "# Get token of every KBs\n",
    "for (idxRow1, row1), (idxRow2, row2) in zip(test_db1.iterrows(), test_db2.iterrows()):\n",
    "    for (idxCol, col1), (_, col2) in zip(row1.iteritems(), row2.iteritems()):\n",
    "        col1_string = col1.split(' ')\n",
    "        col2_string = col2.split(' ')\n",
    "        \n",
    "        # Add into the dictionaries, with key is the word token and the value is the rowIdx\n",
    "        for token in col1_string:\n",
    "            if token in dict_db1.keys():\n",
    "                dict_db1[token].append(str(idxRow1) + '_kb1')\n",
    "            else:\n",
    "                dict_db1[token] = [str(idxRow1) + '_kb1']\n",
    "                \n",
    "        for token in col2_string:\n",
    "            if token in dict_db2.keys():\n",
    "                dict_db2[token].append(str(idxRow2) + '_kb2')\n",
    "            else:\n",
    "                dict_db2[token] = [str(idxRow2) + '_kb2']\n",
    "\n",
    "# Make values in each key appears once\n",
    "for key, values in dict_db1.items():\n",
    "    dict_db1[key] = list(set(values))\n",
    "    \n",
    "for key, values in dict_db2.items():\n",
    "    dict_db2[key] = list(set(values))"
   ]
  },
  {
   "cell_type": "code",
   "execution_count": null,
   "id": "affiliated-bahamas",
   "metadata": {},
   "outputs": [],
   "source": [
    "dict_db1"
   ]
  },
  {
   "cell_type": "code",
   "execution_count": null,
   "id": "thrown-advisory",
   "metadata": {},
   "outputs": [],
   "source": [
    "dict_db2"
   ]
  },
  {
   "cell_type": "code",
   "execution_count": 188,
   "id": "pursuant-experience",
   "metadata": {},
   "outputs": [],
   "source": [
    "# Blocking\n",
    "blocks = {}\n",
    "\n",
    "for key in dict_db1.keys():\n",
    "    if key in dict_db2.keys():\n",
    "        rows_kb1 = dict_db1[key][:]\n",
    "        rows_kb1.extend(dict_db2[key])\n",
    "        blocks[key] = rows_kb1"
   ]
  },
  {
   "cell_type": "code",
   "execution_count": null,
   "id": "small-equality",
   "metadata": {},
   "outputs": [],
   "source": [
    "blocks"
   ]
  },
  {
   "cell_type": "markdown",
   "id": "nearby-description",
   "metadata": {},
   "source": [
    "### Attribute Clustering Blocking"
   ]
  },
  {
   "cell_type": "code",
   "execution_count": 190,
   "id": "detailed-classroom",
   "metadata": {},
   "outputs": [],
   "source": [
    "# Tokens for each KBs\n",
    "# KB1\n",
    "attribute_token_kb1 = {}\n",
    "for i in list(test_db1):\n",
    "    attribute_list = test_db1[i].tolist()\n",
    "    tokens_list = []\n",
    "    for entry in attribute_list:\n",
    "        tokens = entry.split(' ')\n",
    "        tokens_list.extend(tokens)\n",
    "    # Turn it into a set so that each token appears once\n",
    "    tokens_list = list(set(tokens_list))\n",
    "    attribute_token_kb1[i] = tokens_list\n",
    "\n",
    "# KB2\n",
    "attribute_token_kb2 = {}\n",
    "for i in list(test_db2):\n",
    "    attribute_list = test_db2[i].tolist()\n",
    "    tokens_list = []\n",
    "    for entry in attribute_list:\n",
    "        tokens = entry.split(' ')\n",
    "        tokens_list.extend(tokens)\n",
    "    # Turn it into a set so that each token appears once\n",
    "    tokens_list = list(set(tokens_list))\n",
    "    attribute_token_kb2[i] = tokens_list"
   ]
  },
  {
   "cell_type": "code",
   "execution_count": null,
   "id": "nervous-diagram",
   "metadata": {},
   "outputs": [],
   "source": [
    "attribute_token_kb1"
   ]
  },
  {
   "cell_type": "code",
   "execution_count": 219,
   "id": "australian-meeting",
   "metadata": {},
   "outputs": [
    {
     "name": "stdout",
     "output_type": "stream",
     "text": [
      "genres_kb1\n",
      "genres_kb2\n",
      "imdb_id_kb1\n",
      "imdb_id_kb2\n",
      "production_companies_kb1\n",
      "production_companies_kb2\n",
      "production_countries_kb1\n",
      "production_countries_kb2\n",
      "title_kb1\n",
      "title_kb2\n"
     ]
    }
   ],
   "source": [
    "# Write a function for Jaccard similarities\n",
    "links = {}\n",
    "for attribute_kb1, values in attribute_token_kb1.items():\n",
    "    print(attribute_kb1)\n",
    "    jaccard_similarity_score = {}\n",
    "    # Compare with all attributes name in attribute_token_kb2:\n",
    "    for attribute_kb2 in attribute_token_kb2.keys():\n",
    "        # Mutual tokens\n",
    "        mutual_tokens = set(attribute_token_kb1[attribute_kb1]).intersection(attribute_token_kb2[attribute_kb2])\n",
    "        # Total tokens in two KBs attribute names\n",
    "        attr_kb1 = attribute_token_kb1[attribute_kb1][:]\n",
    "        attr_kb1.extend(attribute_token_kb2[attribute_kb2])\n",
    "        total_tokens = set(attr_kb1)\n",
    "        # Jaccarcd similarity\n",
    "        jaccard_similarity_score[attribute_kb2] = len(mutual_tokens)/len(total_tokens)\n",
    "    \n",
    "    # Get the key that have the highest Jaccard similarity score\n",
    "    similar_attributes = max(jaccard_similarity_score, key=jaccard_similarity_score.get)\n",
    "    print(similar_attributes)\n",
    "    links[attribute_kb1] = similar_attributes"
   ]
  },
  {
   "cell_type": "code",
   "execution_count": 213,
   "id": "mighty-implement",
   "metadata": {},
   "outputs": [
    {
     "data": {
      "text/plain": [
       "{'genres_kb1_kb1': 'genres_kb2_kb2',\n",
       " 'imdb_id_kb1_kb1': 'imdb_id_kb2_kb2',\n",
       " 'production_companies_kb1_kb1': 'production_companies_kb2_kb2',\n",
       " 'production_countries_kb1_kb1': 'production_countries_kb2_kb2',\n",
       " 'title_kb1_kb1': 'title_kb2_kb2'}"
      ]
     },
     "execution_count": 213,
     "metadata": {},
     "output_type": "execute_result"
    }
   ],
   "source": [
    "links"
   ]
  },
  {
   "cell_type": "code",
   "execution_count": 243,
   "id": "familiar-chester",
   "metadata": {},
   "outputs": [],
   "source": [
    "def get_attribute_tokens(Kb):\n",
    "    attribute_token = {}\n",
    "    # Loop through all attribute names\n",
    "    for i in list(Kb):\n",
    "        attribute_values = Kb[i].tolist()\n",
    "        tokens_list = []\n",
    "        # Loop each entry (row) in attribute_values\n",
    "        for entry in attribute_values:\n",
    "            tokens = entry.split(' ')\n",
    "            tokens_list.extend(tokens)\n",
    "        # Turn it into a set so that each token appears once\n",
    "        tokens_set = list(set(tokens_list))\n",
    "        attribute_token[i] = tokens_set\n",
    "    \n",
    "    return attribute_token\n",
    "\n",
    "def get_links(ref_token_dict, target_token_dict):\n",
    "    links = {}\n",
    "    for attribute_ref in ref_token_dict.keys():\n",
    "        # Compare with all attributes name in target_token_dict:\n",
    "        for attribute_target in target_token_dict.keys():\n",
    "            # Mutual tokens\n",
    "            mutual_tokens = set(ref_token_dict[attribute_ref]).intersection(target_token_dict[attribute_target])\n",
    "            # Total tokens\n",
    "            tokens_ref = ref_token_dict[attribute_ref][:]\n",
    "            tokens_ref.extend(target_token_dict[attribute_target])\n",
    "            total_tokens = set(tokens_ref)\n",
    "            # Add link if the Jaccard similarity score is > 0\n",
    "            jaccard_similarity_score = len(mutual_tokens)/len(total_tokens)\n",
    "            if jaccard_similarity_score > 0:\n",
    "                if attribute_ref in links.keys():\n",
    "                    links[attribute_ref].append(attribute_target)\n",
    "                else:\n",
    "                    links[attribute_ref] = [attribute_target]\n",
    "        # This is when no link is added, so that the attribute_ref key does not exist yet\n",
    "        if attribute_ref not in links.keys():\n",
    "            links[attribute_ref] = []\n",
    "    \n",
    "    return links\n",
    "\n",
    "def transitive_closure(links_1, links_2, initial_attribute='genres_kb1', visited=[]):\n",
    "    visited.append(initial_attribute)\n",
    "    similar_attributes_1 = links_1[initial_attribute][:]\n",
    "    for attribute_2 in similar_attributes_1:\n",
    "        if attribute_2 not in visited:\n",
    "            transitive_closure(links_2, links_1, attribute_2, visited)\n",
    "    return visited\n",
    "\n",
    "def attribute_clustering_blocking(kb1, kb2):\n",
    "    # Get tokens of all attributes name in the Kb\n",
    "    attribute_token_kb1 = get_attribute_tokens(kb1)\n",
    "    attribute_token_kb2 = get_attribute_tokens(kb2)\n",
    "    \n",
    "    # Get links by Jaccard similarity\n",
    "    links_by_kb1 = get_links(attribute_token_kb1, attribute_token_kb2)\n",
    "    links_by_kb2 = get_links(attribute_token_kb2, attribute_token_kb1)\n",
    "    \n",
    "    # Transitive closure\n",
    "    clusters = {}\n",
    "    for idx, attribute in enumerate(links_by_kb1.keys()):\n",
    "        clusters['c'+str(idx)] = transitive_closure(links_by_kb1, links_by_kb2, attribute, visited=[])\n",
    "    \n",
    "    # Examine for singleton cluster\n",
    "    glue_clusters = {}\n",
    "    \n",
    "    for cluster, attributes in clusters.items():\n",
    "        if len(attributes) == 1:\n",
    "            glue_clusters[cluster] = clusters.pop(cluster, None)\n",
    "    \n",
    "    return clusters, glue_clusters"
   ]
  },
  {
   "cell_type": "code",
   "execution_count": null,
   "id": "hairy-ivory",
   "metadata": {},
   "outputs": [],
   "source": [
    "attribute_token_Kb1 = get_attribute_tokens(test_db1)\n",
    "attribute_token_Kb1"
   ]
  },
  {
   "cell_type": "code",
   "execution_count": 215,
   "id": "angry-radar",
   "metadata": {},
   "outputs": [
    {
     "data": {
      "text/plain": [
       "{'genres_kb1': ['genres_kb2', 'production_companies_kb2', 'title_kb2'],\n",
       " 'imdb_id_kb1': ['imdb_id_kb2'],\n",
       " 'production_companies_kb1': ['genres_kb2',\n",
       "  'production_companies_kb2',\n",
       "  'title_kb2'],\n",
       " 'production_countries_kb1': ['production_countries_kb2'],\n",
       " 'title_kb1': ['production_companies_kb2', 'title_kb2']}"
      ]
     },
     "execution_count": 215,
     "metadata": {},
     "output_type": "execute_result"
    }
   ],
   "source": [
    "links_by_Kb1 = get_links(attribute_token_kb1, attribute_token_kb2)\n",
    "links_by_Kb1"
   ]
  },
  {
   "cell_type": "code",
   "execution_count": 216,
   "id": "million-spray",
   "metadata": {},
   "outputs": [
    {
     "data": {
      "text/plain": [
       "{'genres_kb2': ['genres_kb1', 'production_companies_kb1'],\n",
       " 'imdb_id_kb2': ['imdb_id_kb1'],\n",
       " 'production_companies_kb2': ['genres_kb1',\n",
       "  'production_companies_kb1',\n",
       "  'title_kb1'],\n",
       " 'production_countries_kb2': ['production_countries_kb1'],\n",
       " 'title_kb2': ['genres_kb1', 'production_companies_kb1', 'title_kb1']}"
      ]
     },
     "execution_count": 216,
     "metadata": {},
     "output_type": "execute_result"
    }
   ],
   "source": [
    "links_by_Kb2 = get_links(attribute_token_kb2, attribute_token_kb1)\n",
    "links_by_Kb2"
   ]
  },
  {
   "cell_type": "code",
   "execution_count": 229,
   "id": "outside-floating",
   "metadata": {},
   "outputs": [],
   "source": [
    "def transitive_closure(links_1, links_2, initial_attribute='genres_kb1', visited=[]):\n",
    "    visited.append(initial_attribute)\n",
    "    similar_attributes_1 = links_1[initial_attribute][:]\n",
    "    for attribute_2 in similar_attributes_1:\n",
    "        if attribute_2 not in visited:\n",
    "            transitive_closure(links_2, links_1, attribute_2, visited)\n",
    "    return visited"
   ]
  },
  {
   "cell_type": "code",
   "execution_count": null,
   "id": "global-india",
   "metadata": {},
   "outputs": [],
   "source": [
    "def transitive_closure_2():"
   ]
  },
  {
   "cell_type": "code",
   "execution_count": 230,
   "id": "ethical-reading",
   "metadata": {
    "scrolled": true
   },
   "outputs": [
    {
     "data": {
      "text/plain": [
       "['genres_kb1',\n",
       " 'genres_kb2',\n",
       " 'production_companies_kb1',\n",
       " 'production_companies_kb2',\n",
       " 'title_kb1',\n",
       " 'title_kb2']"
      ]
     },
     "execution_count": 230,
     "metadata": {},
     "output_type": "execute_result"
    }
   ],
   "source": [
    "test = transitive_closure(links_by_Kb1, links_by_Kb2, 'genres_kb1', [])\n",
    "test"
   ]
  },
  {
   "cell_type": "code",
   "execution_count": 231,
   "id": "conditional-aluminum",
   "metadata": {},
   "outputs": [
    {
     "data": {
      "text/plain": [
       "['genres_kb1',\n",
       " 'genres_kb2',\n",
       " 'production_companies_kb1',\n",
       " 'production_companies_kb2',\n",
       " 'title_kb1',\n",
       " 'title_kb2',\n",
       " 'imdb_id_kb1',\n",
       " 'imdb_id_kb2']"
      ]
     },
     "execution_count": 231,
     "metadata": {},
     "output_type": "execute_result"
    }
   ],
   "source": [
    "test_2 = transitive_closure(links_by_Kb1, links_by_Kb2, 'imdb_id_kb1', [])\n",
    "test_2"
   ]
  },
  {
   "cell_type": "code",
   "execution_count": 237,
   "id": "equipped-french",
   "metadata": {},
   "outputs": [],
   "source": [
    "clusters = {}\n",
    "for idx, attribute in enumerate(links_by_Kb1.keys()):\n",
    "    clusters['c'+str(idx)] = transitive_closure(links_by_Kb1, links_by_Kb2, attribute, visited=[])"
   ]
  },
  {
   "cell_type": "code",
   "execution_count": 238,
   "id": "swiss-thousand",
   "metadata": {},
   "outputs": [
    {
     "data": {
      "text/plain": [
       "{'c0': ['genres_kb1',\n",
       "  'genres_kb2',\n",
       "  'production_companies_kb1',\n",
       "  'production_companies_kb2',\n",
       "  'title_kb1',\n",
       "  'title_kb2'],\n",
       " 'c1': ['imdb_id_kb1', 'imdb_id_kb2'],\n",
       " 'c2': ['production_companies_kb1',\n",
       "  'genres_kb2',\n",
       "  'genres_kb1',\n",
       "  'production_companies_kb2',\n",
       "  'title_kb1',\n",
       "  'title_kb2'],\n",
       " 'c3': ['production_countries_kb1', 'production_countries_kb2'],\n",
       " 'c4': ['title_kb1',\n",
       "  'production_companies_kb2',\n",
       "  'genres_kb1',\n",
       "  'genres_kb2',\n",
       "  'production_companies_kb1',\n",
       "  'title_kb2']}"
      ]
     },
     "execution_count": 238,
     "metadata": {},
     "output_type": "execute_result"
    }
   ],
   "source": [
    "clusters"
   ]
  },
  {
   "cell_type": "markdown",
   "id": "treated-accuracy",
   "metadata": {},
   "source": [
    "#### Main function attribute clustering blocking"
   ]
  },
  {
   "cell_type": "code",
   "execution_count": 244,
   "id": "adaptive-strengthening",
   "metadata": {},
   "outputs": [],
   "source": [
    "clusters, glue_clusters = attribute_clustering_blocking(test_db1, test_db2)"
   ]
  },
  {
   "cell_type": "code",
   "execution_count": 245,
   "id": "chicken-genealogy",
   "metadata": {},
   "outputs": [
    {
     "data": {
      "text/plain": [
       "{'c0': ['genres_kb1',\n",
       "  'genres_kb2',\n",
       "  'production_companies_kb1',\n",
       "  'production_companies_kb2',\n",
       "  'title_kb1',\n",
       "  'title_kb2'],\n",
       " 'c1': ['imdb_id_kb1', 'imdb_id_kb2'],\n",
       " 'c2': ['production_companies_kb1',\n",
       "  'genres_kb2',\n",
       "  'genres_kb1',\n",
       "  'production_companies_kb2',\n",
       "  'title_kb1',\n",
       "  'title_kb2'],\n",
       " 'c3': ['production_countries_kb1', 'production_countries_kb2'],\n",
       " 'c4': ['title_kb1',\n",
       "  'production_companies_kb2',\n",
       "  'genres_kb1',\n",
       "  'genres_kb2',\n",
       "  'production_companies_kb1',\n",
       "  'title_kb2']}"
      ]
     },
     "execution_count": 245,
     "metadata": {},
     "output_type": "execute_result"
    }
   ],
   "source": [
    "clusters"
   ]
  },
  {
   "cell_type": "code",
   "execution_count": 242,
   "id": "female-round",
   "metadata": {},
   "outputs": [
    {
     "data": {
      "text/plain": [
       "{}"
      ]
     },
     "execution_count": 242,
     "metadata": {},
     "output_type": "execute_result"
    }
   ],
   "source": [
    "glue_clusters"
   ]
  },
  {
   "cell_type": "code",
   "execution_count": null,
   "id": "convinced-classroom",
   "metadata": {},
   "outputs": [],
   "source": []
  }
 ],
 "metadata": {
  "kernelspec": {
   "display_name": "Python 3",
   "language": "python",
   "name": "python3"
  },
  "language_info": {
   "codemirror_mode": {
    "name": "ipython",
    "version": 3
   },
   "file_extension": ".py",
   "mimetype": "text/x-python",
   "name": "python",
   "nbconvert_exporter": "python",
   "pygments_lexer": "ipython3",
   "version": "3.6.10"
  }
 },
 "nbformat": 4,
 "nbformat_minor": 5
}
