{
 "cells": [
  {
   "cell_type": "code",
   "execution_count": 145,
   "metadata": {},
   "outputs": [],
   "source": [
    "import pandas as pd\n",
    "import numpy as np\n",
    "import operator"
   ]
  },
  {
   "cell_type": "code",
   "execution_count": 29,
   "metadata": {},
   "outputs": [],
   "source": [
    "def create_entity_index(blocks, entities):\n",
    "    entity_index = {}\n",
    "    for entity in entities:\n",
    "        entity_index[entity] = []\n",
    "    for key, value in blocks.items():\n",
    "        for entity in value:\n",
    "            entity_index[entity].append(key)\n",
    "    return entity_index"
   ]
  },
  {
   "cell_type": "code",
   "execution_count": 71,
   "metadata": {},
   "outputs": [],
   "source": [
    "def Scheme(blocks_i, entity_i, blocks_j, entity_j, type_of_scheme=\"Common\"):\n",
    "    inter_blocks_ij = []\n",
    "    for block in blocks_i:\n",
    "        if entity_j in block and entity_i in block:\n",
    "            inter_blocks_ij.append(block)\n",
    "    if type_of_scheme == \"Jaccard\":\n",
    "        return len(inter_blocks_ij) / (len(blocks_i) + len(blocks_j) - len(inter_blocks_ij))\n",
    "    return len(inter_blocks_ij)"
   ]
  },
  {
   "cell_type": "code",
   "execution_count": 103,
   "metadata": {},
   "outputs": [],
   "source": [
    "blocks = {'tt0427309': ['164_kb1', '164_kb2'],\n",
    " 'Weinstein': ['164_kb1', '164_kb2', '166_kb1'],\n",
    " 'Marshall': ['164_kb1', '164_kb2', '165_kb1'],\n",
    "    'Kin': ['165_kb1', '164_kb2']}\n",
    "entity_index = create_entity_index(a, ['165_kb1','164_kb1', '164_kb2', '166_kb1'])"
   ]
  },
  {
   "cell_type": "code",
   "execution_count": 117,
   "metadata": {},
   "outputs": [],
   "source": [
    "def make_graph(blocks, type_of_scheme=\"Jaccard\"):\n",
    "    E = []\n",
    "    V = set()\n",
    "    W = []\n",
    "    for block in blocks:\n",
    "        ps_1 = [p for p in blocks[block] if p[-3:] == \"kb1\"]\n",
    "        ps_2 = [p for p in blocks[block] if p[-3:] == \"kb2\"]\n",
    "        for p1 in ps_1:\n",
    "            V.add(p1)\n",
    "            for p2 in ps_2:\n",
    "                V.add(p2)\n",
    "                blocks_1_id = entity_index[p1]\n",
    "                blocks_2_id = entity_index[p2]\n",
    "                blocks_1 = [blocks[id1] for id1 in blocks_1_id]\n",
    "                blocks_2 = [blocks[id2] for id2 in blocks_2_id]\n",
    "                weight = Scheme(blocks_1, p1, blocks_2, p2, type_of_scheme)\n",
    "                E.append((p1,p2))\n",
    "                W.append(weight)            \n",
    "    norm_W = [(float(i)-min(W))/(max(W)-min(W)) for i in W]\n",
    "    return V, E, norm_W"
   ]
  },
  {
   "cell_type": "code",
   "execution_count": 142,
   "metadata": {},
   "outputs": [],
   "source": [
    "graph = make_graph(a)"
   ]
  },
  {
   "cell_type": "code",
   "execution_count": 143,
   "metadata": {},
   "outputs": [],
   "source": [
    "def WEP(graph):\n",
    "    V = graph[0]\n",
    "    E = graph[1]\n",
    "    W = graph[2]\n",
    "    W_min = np.mean(W)\n",
    "    low_W_index = []\n",
    "    for i in range(0,len(E)):\n",
    "        if W[i] < W_min:\n",
    "            low_W_index.append(i)\n",
    "    E = np.delete(E, low_W_index, axis=0)       \n",
    "    W = np.delete(W, low_W_index)\n",
    "    return V, E, W"
   ]
  },
  {
   "cell_type": "code",
   "execution_count": 144,
   "metadata": {},
   "outputs": [],
   "source": [
    "pruned_graph = WEP(graph)"
   ]
  },
  {
   "cell_type": "code",
   "execution_count": 169,
   "metadata": {},
   "outputs": [],
   "source": [
    "def CEP(graph, K=4):\n",
    "    V = graph[0]\n",
    "    E = graph[1]\n",
    "    W = graph[2]\n",
    "    sorted_stack = {}\n",
    "    for i in range(0,len(E)):\n",
    "        sorted_stack[i] = W[i]\n",
    "        sorted_stack = {k: v for k, v in sorted(sorted_stack.items(), key=lambda item: item[1], reverse=True)}\n",
    "        \n",
    "        if K < len(sorted_stack):\n",
    "            sorted_stack.popitem()\n",
    "    retain_index = sorted_stack.keys()\n",
    "\n",
    "    E = [E[i] for i in retain_index] \n",
    "    W = [W[i] for i in retain_index] \n",
    "    return V, E, W"
   ]
  },
  {
   "cell_type": "code",
   "execution_count": 172,
   "metadata": {},
   "outputs": [],
   "source": [
    "pruned_graph_2 = CEP(graph)"
   ]
  },
  {
   "cell_type": "code",
   "execution_count": 173,
   "metadata": {},
   "outputs": [
    {
     "name": "stdout",
     "output_type": "stream",
     "text": [
      "{'164_kb1', '166_kb1', '165_kb1', '164_kb2'}\n",
      "[('164_kb1', '164_kb2'), ('164_kb1', '164_kb2'), ('164_kb1', '164_kb2'), ('165_kb1', '164_kb2')]\n",
      "[1.0, 1.0, 1.0, 0.5]\n"
     ]
    }
   ],
   "source": [
    "print(pruned_graph_2[0])\n",
    "print(pruned_graph_2[1])\n",
    "print(pruned_graph_2[2])"
   ]
  },
  {
   "cell_type": "code",
   "execution_count": null,
   "metadata": {},
   "outputs": [],
   "source": []
  }
 ],
 "metadata": {
  "kernelspec": {
   "display_name": "Python 3.9.2 (oliverton)",
   "language": "python",
   "name": "oliverton"
  },
  "language_info": {
   "codemirror_mode": {
    "name": "ipython",
    "version": 3
   },
   "file_extension": ".py",
   "mimetype": "text/x-python",
   "name": "python",
   "nbconvert_exporter": "python",
   "pygments_lexer": "ipython3",
   "version": "3.9.7"
  }
 },
 "nbformat": 4,
 "nbformat_minor": 4
}
